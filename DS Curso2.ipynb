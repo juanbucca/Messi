{
 "cells": [
  {
   "cell_type": "markdown",
   "metadata": {},
   "source": [
    "<center>\n",
    "    <img src=\"https://cf-courses-data.s3.us.cloud-object-storage.appdomain.cloud/IBMDeveloperSkillsNetwork-DS0105EN-SkillsNetwork/labs/Module2/images/SN_web_lightmode.png\" width=\"300\" alt=\"cognitiveclass.ai logo\">\n",
    "</center>\n"
   ]
  },
  {
   "cell_type": "markdown",
   "metadata": {},
   "source": [
    "#### Add your code below following the instructions given in the course\n"
   ]
  },
  {
   "cell_type": "markdown",
   "metadata": {},
   "source": [
    "# My Jupyter Notebook on IBM Watson Studio"
   ]
  },
  {
   "cell_type": "markdown",
   "metadata": {},
   "source": [
    "**Juan Buccafusca**"
   ]
  },
  {
   "cell_type": "markdown",
   "metadata": {},
   "source": [
    "I'm a Business Analyst and I want to become a Data Scientist."
   ]
  },
  {
   "cell_type": "markdown",
   "metadata": {},
   "source": [
    "*I am interested in Data Science because I would love to work predicting things. I am an Economist and I want to take advantage of my previous knowledge and go a step further and learn to manipulate data to help organizations make intelligent decisions*"
   ]
  },
  {
   "cell_type": "markdown",
   "metadata": {},
   "source": [
    "### The next cell will show how many World Cups Argentina has in soccer"
   ]
  },
  {
   "cell_type": "code",
   "execution_count": 8,
   "metadata": {},
   "outputs": [
    {
     "data": {
      "text/plain": [
       "3"
      ]
     },
     "execution_count": 8,
     "metadata": {},
     "output_type": "execute_result"
    }
   ],
   "source": [
    "1+1+1"
   ]
  },
  {
   "cell_type": "markdown",
   "metadata": {},
   "source": [
    "If you ask [GOOGLE Homepage](https://www.google.com/search?q=who+is+the+GOAT&sxsrf=AJOqlzVWWAyvGDTQFF4QF1O57vzZ0GuX2A%3A1675934702146&source=hp&ei=7rvkY8fHBofPgQbK4ZHIBw&iflsig=AK50M_UAAAAAY-TJ_hrxV2LvSjjUmg0FBijxipABvL32&ved=0ahUKEwjH9tekj4j9AhWHZ8AKHcpwBHkQ4dUDCAo&uact=5&oq=who+is+the+GOAT&gs_lcp=Cgdnd3Mtd2l6EAMyBAgjECcyBAgAEEMyBAgAEEMyBQgAEIAEMggIABCABBDLATIICAAQgAQQywEyCAgAEIAEEMsBMggIABCABBDLATIICAAQgAQQywEyCAgAEIAEEMsBOhEILhCABBCxAxCDARDHARDRAzoECC4QJzoICAAQgAQQsQM6CAguEIAEELEDOgUILhCABDoHCAAQgAQQCjoKCC4QgAQQsQMQCjoNCAAQgAQQsQMQgwEQCjoLCAAQgAQQsQMQgwFQAFj3FmCcGmgAcAB4AIABhAGIAYENkgEEMC4xNZgBAKABAQ&sclient=gws-wiz) who the GOAT is, it will tell you it is Lionel Messi.\n",
    "\n",
    "The following table will show you the Argentine scorers in the 2022 World Cup\n",
    "Scorer | Position | Goals\n",
    "--- | --- | ---\n",
    "*Messi* | *Striker* |  *7*\n",
    "J.Alvarez | Striker |  4\n",
    "E.Fernandez | Midfielder |  1\n",
    "Di Maria   | Midfielder |  1\n",
    "Mac Allister   | Midfielder |  1\n",
    "Molina   | Defender |  1\n",
    "\n",
    "In the following video you can watch the highlights of World Cup's Greatest Final Ever\n",
    "<a href=\"https://www.youtube.com/watch?v=zhEWqfP6V_w\n",
    "\" target=\"_blank\"><img src=\"http://img.youtube.com/vi/YOUTUBE_VIDEO_ID_HERE/0.jpg\" \n",
    "alt=\"IMAGE ALT TEXT HERE\" width=\"240\" height=\"180\" border=\"10\" /></a>"
   ]
  },
  {
   "cell_type": "code",
   "execution_count": null,
   "metadata": {},
   "outputs": [],
   "source": []
  }
 ],
 "metadata": {
  "kernelspec": {
   "display_name": "Python",
   "language": "python",
   "name": "conda-env-python-py"
  },
  "language_info": {
   "codemirror_mode": {
    "name": "ipython",
    "version": 3
   },
   "file_extension": ".py",
   "mimetype": "text/x-python",
   "name": "python",
   "nbconvert_exporter": "python",
   "pygments_lexer": "ipython3",
   "version": "3.7.12"
  }
 },
 "nbformat": 4,
 "nbformat_minor": 4
}
